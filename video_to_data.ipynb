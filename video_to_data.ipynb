{
 "cells": [
  {
   "cell_type": "code",
   "execution_count": 3,
   "id": "0ce1ca57-5526-4478-bb65-e81d78bfa536",
   "metadata": {},
   "outputs": [],
   "source": [
    "# This notebook contains the data pipeline to get from raw data to the inputs for the classifier, in order to train it to recognize \n",
    "# hand gestures.\n",
    "# First, data is collected in the form of video taken mostly of myself (some of my mother), trying to use various capturing device and illumination \n",
    "# conditions, to improve the broadness of the training and test sets. Each video contains one gesture, in order to get labels without annotating.\n",
    "\n",
    "# Raw videos are then processed frame by frame, extracting hand landmarkers using the mediapipe hand landmarker model.\n",
    "# The obtained data is then stored in a csv file.\n",
    "\n",
    "\n",
    "import mediapipe as mp\n",
    "import cv2\n",
    "import csv\n",
    "import os\n",
    "import numpy as np\n",
    "\n",
    "mp_hands = mp.solutions.hands\n",
    "\n",
    "# Main function for video processing\n",
    "\n",
    "def video_to_data(video_path, filename):\n",
    "    \"\"\"Processes a video, extracts landmark data for both hands,\n",
    "    and writes it to a CSV file.\n",
    "    Inputs: - video path on the user device. - name of the output file.\n",
    "    \"\"\"\n",
    "    #Checks the path exists\n",
    "    if not os.path.exists(video_path):\n",
    "        raise FileNotFoundError(f\"The video path {video_path} does not exist.\")\n",
    "    \n",
    "    label = video_path[-5]  # Extract the video label from its filename ( the file name is in the format '...label1.mp4' .\n",
    "\n",
    "    # We will use cv2 VideoCapture to handle videos frame by frame\n",
    "    \n",
    "    cap = cv2.VideoCapture(video_path)\n",
    "    frame_count = 0\n",
    "\n",
    "    # Main logic to extract data from each frame: it may be overkill to use every single frame, but it doesn't negatively impact the performance\n",
    "    with mp_hands.Hands(min_detection_confidence=0.5, min_tracking_confidence=0.5, max_num_hands=2) as hands: #Mediapipe model\n",
    "        \n",
    "        while cap.isOpened():\n",
    "            ret, frame = cap.read()\n",
    "            if not ret:\n",
    "                break\n",
    "            # frame handling with some operations\n",
    "            frame = cv2.cvtColor(frame, cv2.COLOR_BGR2RGB)\n",
    "            # flips the image horizontally\n",
    "            image = cv2.flip(frame, 1)\n",
    "            image.flags.writeable = False #improves performance\n",
    "            results = hands.process(image)\n",
    "            image.flags.writeable = True\n",
    "            image = cv2.cvtColor(image, cv2.COLOR_RGB2BGR)\n",
    "\n",
    "            # logic to append the results to the csv file\n",
    "            if results.multi_hand_landmarks and results.multi_handedness: \n",
    "                for hand_landmarks, handedness_info in zip(results.multi_hand_landmarks, results.multi_handedness):\n",
    "                    handedness = handedness_info.classification[0].label\n",
    "                    handedness_num = 0 if handedness == \"Right\" else 1\n",
    "\n",
    "                    x_coordinates = [landmark.x for landmark in hand_landmarks.landmark]\n",
    "                    y_coordinates = [landmark.y for landmark in hand_landmarks.landmark]\n",
    "                    z_coordinates = [landmark.z for landmark in hand_landmarks.landmark]\n",
    "\n",
    "                    # final format of the data\n",
    "                    features = np.array([handedness_num] + x_coordinates + y_coordinates + z_coordinates + [label], dtype=np.float32)\n",
    "\n",
    "                    with open(filename, mode='a', newline='') as csvfile:\n",
    "                        writer = csv.writer(csvfile)\n",
    "                        writer.writerow(features.tolist())\n",
    "\n",
    "            frame_count += 1\n",
    "            if cv2.waitKey(1) & 0xFF == ord('q'):\n",
    "                break\n",
    "    cap.release()\n",
    "    cv2.destroyAllWindows()\n",
    "    print(\"Finished processing video.\")\n",
    "\n"
   ]
  },
  {
   "cell_type": "code",
   "execution_count": 4,
   "id": "b0e0e027-efe3-4fbc-a772-1a7ea94a15cb",
   "metadata": {},
   "outputs": [],
   "source": [
    "#Repeats the last function on multiple files in a folder, to create a database\n",
    "def videos_to_data(folder_path, output_csv):\n",
    "    video_files = [f for f in os.listdir(folder_path) if f.endswith('.mp4')]  # List of all .mp4 videos\n",
    "    \n",
    "    for video_file in video_files:\n",
    "        video_path = os.path.join(folder_path, video_file)\n",
    "        video_to_data(video_path, output_csv)\n",
    "    print(\"Finito\")"
   ]
  },
  {
   "cell_type": "code",
   "execution_count": 7,
   "id": "c89220f8-f6a7-4763-8834-fe1a48edc6df",
   "metadata": {},
   "outputs": [
    {
     "name": "stderr",
     "output_type": "stream",
     "text": [
      "<>:2: SyntaxWarning: invalid escape sequence '\\p'\n",
      "<>:2: SyntaxWarning: invalid escape sequence '\\p'\n",
      "C:\\Users\\Marco\\AppData\\Local\\Temp\\ipykernel_8260\\1019951029.py:2: SyntaxWarning: invalid escape sequence '\\p'\n",
      "  videos_to_data('D:/progetto_video/video_V', 'D:\\progetto_video\\dataset_nuovo_modello\\dataset_new.csv')\n"
     ]
    },
    {
     "name": "stdout",
     "output_type": "stream",
     "text": [
      "Finished processing video.\n",
      "Finished processing video.\n",
      "Finito\n"
     ]
    }
   ],
   "source": [
    "#Used this to generate the database\n",
    "videos_to_data('D:/progetto_video/videos', 'D:\\progetto_video\\dataset_nuovo_modello\\dataset_new.csv')"
   ]
  },
  {
   "cell_type": "code",
   "execution_count": 9,
   "id": "98346e59-c129-421d-b158-75a1bb0520ff",
   "metadata": {},
   "outputs": [
    {
     "name": "stderr",
     "output_type": "stream",
     "text": [
      "<>:2: SyntaxWarning: invalid escape sequence '\\p'\n",
      "<>:2: SyntaxWarning: invalid escape sequence '\\p'\n",
      "C:\\Users\\Marco\\AppData\\Local\\Temp\\ipykernel_8260\\3108353051.py:2: SyntaxWarning: invalid escape sequence '\\p'\n",
      "  with open('D:\\progetto_video\\dataset_nuovo_modello\\dataset.csv', 'r') as file:\n"
     ]
    },
    {
     "name": "stdout",
     "output_type": "stream",
     "text": [
      "65\n"
     ]
    }
   ],
   "source": [
    "import csv\n",
    "\n",
    "# Sanity check\n",
    "\n",
    "with open('D:\\progetto_video\\dataset_nuovo_modello\\dataset.csv', 'r') as file:\n",
    "    reader = csv.reader(file)\n",
    "    lista = []\n",
    "    a=0\n",
    "    for row in reader:\n",
    "        if a==0:\n",
    "            print(len(row))\n",
    "        a+=1\n"
   ]
  },
  {
   "cell_type": "code",
   "execution_count": 2,
   "id": "d503ebff-029f-47bf-9530-9e8c9448c318",
   "metadata": {},
   "outputs": [
    {
     "name": "stderr",
     "output_type": "stream",
     "text": [
      "<>:32: SyntaxWarning: invalid escape sequence '\\p'\n",
      "<>:33: SyntaxWarning: invalid escape sequence '\\p'\n",
      "<>:32: SyntaxWarning: invalid escape sequence '\\p'\n",
      "<>:33: SyntaxWarning: invalid escape sequence '\\p'\n",
      "C:\\Users\\Marco\\AppData\\Local\\Temp\\ipykernel_8260\\1598850953.py:32: SyntaxWarning: invalid escape sequence '\\p'\n",
      "  input_file = 'D:\\progetto_video\\dataset_nuovo_modello\\dataset.csv'  # Replace with your input file name\n",
      "C:\\Users\\Marco\\AppData\\Local\\Temp\\ipykernel_8260\\1598850953.py:33: SyntaxWarning: invalid escape sequence '\\p'\n",
      "  output_file = 'D:\\progetto_video\\dataset_nuovo_modello\\dataset_new.csv' # Replace with your desired output file name\n"
     ]
    },
    {
     "name": "stdout",
     "output_type": "stream",
     "text": [
      "CSV file updated. Output written to 'D:\\progetto_video\\dataset_nuovo_modello\\dataset_new.csv'\n"
     ]
    }
   ],
   "source": [
    "# Example of some code used to engineer the dataset.\n",
    "\n",
    "import csv\n",
    "\n",
    "# Function to change all the examples sharing a label to another label\n",
    "def update_csv(input_filename, output_filename, label1, label2):\n",
    "    \"\"\"\n",
    "    Reads a CSV file, changes values in the last column from label1 to label2,\n",
    "    and writes the updated data to a new CSV file.\n",
    "\n",
    "    Args:\n",
    "        input_filename: Path to the input CSV file.\n",
    "        output_filename: Path to the output CSV file.\n",
    "    \"\"\"\n",
    "    try:\n",
    "        with open(input_filename, 'r', newline='', encoding='utf-8') as infile, \\\n",
    "                open(output_filename, 'w', newline='', encoding='utf-8') as outfile:\n",
    "\n",
    "            reader = csv.reader(infile)\n",
    "            writer = csv.writer(outfile)\n",
    "\n",
    "            for row in reader:\n",
    "                if row: #check if the row is not empty\n",
    "                    if row[-1] == label1:  # Check the last element in the row\n",
    "                        row[-1] = label2  # Modify the last element\n",
    "                    writer.writerow(row)\n",
    "\n",
    "    except FileNotFoundError:\n",
    "        print(f\"Error: Input file '{input_filename}' not found.\")\n",
    "    except Exception as e:\n",
    "        print(f\"An error occurred: {e}\")\n",
    "\n",
    "\n",
    "\n",
    "input_file = 'D:\\progetto_video\\dataset_nuovo_modello\\dataset.csv'  \n",
    "output_file = 'D:\\progetto_video\\dataset_nuovo_modello\\dataset_new.csv' \n",
    "\n",
    "update_csv(input_file, output_file, \"7.0\", \"8.0\")\n",
    "print(f\"CSV file updated. Output written to '{output_file}'\")\n",
    "\n"
   ]
  },
  {
   "cell_type": "code",
   "execution_count": null,
   "id": "f7eab666-747e-4c09-9433-d0804b3f4095",
   "metadata": {},
   "outputs": [],
   "source": []
  }
 ],
 "metadata": {
  "kernelspec": {
   "display_name": "Python 3 (ipykernel)",
   "language": "python",
   "name": "python3"
  },
  "language_info": {
   "codemirror_mode": {
    "name": "ipython",
    "version": 3
   },
   "file_extension": ".py",
   "mimetype": "text/x-python",
   "name": "python",
   "nbconvert_exporter": "python",
   "pygments_lexer": "ipython3",
   "version": "3.12.4"
  }
 },
 "nbformat": 4,
 "nbformat_minor": 5
}
